{
 "cells": [
  {
   "cell_type": "markdown",
   "id": "d3987f8d",
   "metadata": {},
   "source": [
    "# ASSIGMENT 2"
   ]
  },
  {
   "cell_type": "raw",
   "id": "c7432371",
   "metadata": {},
   "source": [
    "1.What are the two values of the Boolean data type? How do you write them?\n",
    "Answer :-The Boolean data type is a data type in computer programming that represents truth values. It has two possible values: true and false. In programming languages, these values are typically represented using the keywords \"true\" and \"false\" respectively. In some languages, the values can also be represented numerically as 1 for true and 0 for false. The specific syntax for representing Boolean values may vary depending on the programming language being used."
   ]
  },
  {
   "cell_type": "raw",
   "id": "f6133445",
   "metadata": {},
   "source": [
    "2. What are the three different types of Boolean operators?\n",
    "ANSWER:- The three different types of Boolean operators are:\n",
    "        A.AND Operator\n",
    "        B.OR Operator\n",
    "        C.NOT Operator"
   ]
  },
  {
   "cell_type": "raw",
   "id": "830ad24d",
   "metadata": {},
   "source": [
    " 3. Make a list of each Boolean operator's truth tables (i.e. every possible combination of Boolean\n",
    "values for the operator and what it evaluate ).\n",
    "ANSWER:-"
   ]
  },
  {
   "cell_type": "raw",
   "id": "22790a8d",
   "metadata": {},
   "source": [
    "4. What are the values of the following expressions?\n",
    "(5 > 4) and (3 == 5)\n",
    "not (5 > 4)\n",
    "(5 > 4) or (3 == 5)\n",
    "not ((5 > 4) or (3 == 5))\n",
    "(True and True) and (True == False)\n",
    "(not False) or (not True)\n",
    "\n",
    "ANSWER:-\n",
    "1.(5 > 4) and (3 == 5) evaluates to False.\n",
    "2.not (5 > 4) evaluates to False.\n",
    "3.(5 > 4) or (3 == 5) evaluates to True.\n",
    "4.not ((5 > 4) or (3 == 5)) evaluates to False.\n",
    "5.(True and True) and (True == False) evaluates to False.\n",
    "6.(not False) or (not True) evaluates to True.\n",
    "\n",
    " "
   ]
  },
  {
   "cell_type": "raw",
   "id": "2156abe2",
   "metadata": {},
   "source": [
    "5.What are the six comparison operators?\n",
    "ANSWER:-\n",
    "1.Equality Operator (==)\n",
    "2.Inequality Operator (!=)\n",
    "3.Greater Than Operator (>)\n",
    "4.Less Than Operator (<)\n",
    "5.Greater Than or Equal To Operator (>=)\n",
    "6.Less Than or Equal To Operator (<=)"
   ]
  },
  {
   "cell_type": "markdown",
   "id": "f2327996",
   "metadata": {},
   "source": [
    "6.How do you tell the difference between the equal to and assignment operators?Describe a condition and when you would use one.\n",
    "\n",
    "ANSWER:- The equal to operator (==) and assignment operator (=) are both used in programming, but they serve different purposes.\n",
    "\n",
    "Equal to operator (==): The equal to operator is used to compare two values to check if they are equal. It returns a Boolean value of either true or false, depending on whether the comparison is true or false. The equal to operator only compares the values of the operands.\n",
    "\n",
    " Example: x = 5 y = 10\n",
    "\n",
    "if x == y: print(\"x is equal to y\") else: print(\"x is not equal to y\"),\n",
    "\n",
    "Assignment operator (=): The assignment operator is used to assign a value to a variable. It assigns the value on the right-hand side of the operator to the variable on the left-hand side. Here's an example of using the assignment operator: x = 5 y = x\n",
    "\n",
    "print(\"The value of x is:\", x) print(\"The value of y is:\", y)"
   ]
  },
  {
   "cell_type": "raw",
   "id": "2ade5efe",
   "metadata": {},
   "source": [
    "  7. Identify the three blocks in this code:\n",
    "ANSWER:\n",
    "\n",
    "In the given code, there are three blocks. Here's a breakdown of each block:-\n",
    "\n",
    "Block 1:\n",
    "if spam == 10:\n",
    "    print(eggs)\n",
    "    \n",
    "Block 2:\n",
    "if spam > 5:\n",
    "    print('bacon')\n",
    "else:\n",
    "    print('ham')\n",
    "\n",
    "Blocks 3:\n",
    "\n",
    "print('spam')\n",
    "print('spam')\n"
   ]
  },
  {
   "cell_type": "raw",
   "id": "31da864f",
   "metadata": {},
   "source": [
    "8. Write code that prints Hello if 1 is stored in spam, prints Howdy if 2 is stored in spam, and prints\n",
    "Greetings! if anything else is stored in spam.\n",
    "\n",
    "ANSWER:-\n",
    "\n",
    "spam = int(input(\"Enter a value for spam: \"))\n",
    "\n",
    "if spam == 1:\n",
    "    print(\"Hello\")\n",
    "elif spam == 2:\n",
    "    print(\"Howdy\")\n",
    "else:\n",
    "    print(\"Greetings!\")\n"
   ]
  },
  {
   "cell_type": "raw",
   "id": "5938660c",
   "metadata": {},
   "source": [
    "9.If your programme is stuck in an endless loop, what keys you’ll press?\n",
    "ANSWER:-CTRL + C"
   ]
  },
  {
   "cell_type": "raw",
   "id": "0b70fe8e",
   "metadata": {},
   "source": [
    "10. How can you tell the difference between break and continue?\n",
    "\n",
    "ANSWER:-\n",
    "\n",
    "Break statement stops the entire process of the loop,and Continue statement only stops the current iteration of the loop."
   ]
  },
  {
   "cell_type": "raw",
   "id": "6f4115f4",
   "metadata": {},
   "source": [
    "11.In a for loop, what is the difference between range(10), range(0, 10), and range(0, 10, 1)?\n",
    "\n",
    "ANSWER:-The difference between range(10), range(0, 10), and range(0, 10, 1) are follow as:-\n",
    "range(10): This creates a sequence of numbers starting from 0 (default start value) up to, but not including, the specified stop value, which in this case is 10. The step value is not provided explicitly and is assumed to be 1 by default. So, range(10) generates the numbers 0, 1, 2, 3, 4, 5, 6, 7, 8, and 9.\n",
    "\n",
    "range(0, 10): This creates a sequence of numbers starting from the specified start value, which in this case is 0, up to, but not including, the specified stop value, which is 10. Similar to the previous example, the step value is not provided explicitly and defaults to 1. Thus, range(0, 10) generates the numbers 0, 1, 2, 3, 4, 5, 6, 7, 8, and 9.\n",
    "\n",
    "range(0, 10, 1): This is similar to the second example, but here the step value is explicitly set to 1. The start value is 0, and the stop value is 10 (exclusive). Since the step is 1, the generated sequence will increment by 1 at each iteration. Thus, range(0, 10, 1) produces the numbers 0, 1, 2, 3, 4, 5, 6, 7, 8, and 9.\n",
    "\n",
    "\n",
    "\n"
   ]
  },
  {
   "cell_type": "raw",
   "id": "4d5016e7",
   "metadata": {},
   "source": [
    "12.Write a short program that prints the numbers 1 to 10 using a for loop. Then write an equivalent\n",
    "program that prints the numbers 1 to 10 using a while loop.\n",
    "\n",
    "ANSWER:-The first program using a for loop:\n",
    "              for i in range(1, 11):\n",
    "                  print(i)\n",
    "                  \n",
    " And here's the equivalent program using a while loop:\n",
    " \n",
    "num = 1\n",
    "while num <= 10:\n",
    "    print(num)\n",
    "    num += 1"
   ]
  },
  {
   "cell_type": "raw",
   "id": "0e300b42",
   "metadata": {},
   "source": [
    "13.If you had a function named bacon() inside a module named spam, how would you call it after\n",
    "importing spam?\n",
    "ANSWER:-\n",
    "\n",
    "import spam\n",
    "\n",
    "spam.bacon()\n"
   ]
  }
 ],
 "metadata": {
  "kernelspec": {
   "display_name": "Python 3 (ipykernel)",
   "language": "python",
   "name": "python3"
  },
  "language_info": {
   "codemirror_mode": {
    "name": "ipython",
    "version": 3
   },
   "file_extension": ".py",
   "mimetype": "text/x-python",
   "name": "python",
   "nbconvert_exporter": "python",
   "pygments_lexer": "ipython3",
   "version": "3.10.9"
  }
 },
 "nbformat": 4,
 "nbformat_minor": 5
}
